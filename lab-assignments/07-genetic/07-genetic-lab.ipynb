{
 "cells": [
  {
   "cell_type": "markdown",
   "id": "f913dd30",
   "metadata": {},
   "source": [
    "# Lab 07: Genetic Algorithms\n",
    "\n",
    "## Total: 50 points\n",
    "\n",
    "In this lab, you'll explore the fundamentals of genetic algorithms by implementing core operations like selection, crossover, and mutation. We give you the initialization code and fitness function so you can focus the different ways to implement core operations."
   ]
  },
  {
   "cell_type": "markdown",
   "id": "cbf3d2db",
   "metadata": {},
   "source": [
    "## General Instructions\n",
    "\n",
    "- Carefully read through the commented helper functions.\n",
    "- Implement the missing functions where marked with `pass`.\n",
    "- This lab is VERY open ended! There isn't one way to do this. Implement the strategies or verisons that interest you!\n",
    "- **We have provided suggested parameters to pass into the unimplemented functions, but depending on the methods you pick, the parameters might change or you will need additional ones. Make sure to edit the parameter list for methods and strategies you use!!** "
   ]
  },
  {
   "cell_type": "code",
   "execution_count": 1,
   "metadata": {},
   "outputs": [],
   "source": [
    "import random\n",
    "import matplotlib.pyplot as plt\n",
    "import time"
   ]
  },
  {
   "cell_type": "code",
   "execution_count": 2,
   "metadata": {},
   "outputs": [],
   "source": [
    "# Problem Constants\n",
    "NUM_PEOPLE = 5\n",
    "SHIFTS_PER_DAY = 3\n",
    "DAYS_PER_WEEK = 7\n",
    "SHIFTS_PER_WEEK = SHIFTS_PER_DAY * DAYS_PER_WEEK # 21"
   ]
  },
  {
   "cell_type": "code",
   "execution_count": 3,
   "metadata": {},
   "outputs": [],
   "source": [
    "# GA Parameters\n",
    "POPULATION_SIZE = 100       # Number of schedules in each generation\n",
    "GENERATIONS = 150           # Number of generations to run\n",
    "MUTATION_RATE = 0.02        # Probability of a single bit flip mutation\n",
    "CROSSOVER_RATE = 0.7        # Probability that crossover occurs between two parents\n",
    "HARD_PENALTY = -2           # Penalty per violated hard constraint\n",
    "SOFT_PENALTY = -1           # Penalty per violated soft constraint"
   ]
  },
  {
   "cell_type": "markdown",
   "metadata": {},
   "source": [
    "# Helper Functions"
   ]
  },
  {
   "cell_type": "code",
   "execution_count": 4,
   "metadata": {},
   "outputs": [],
   "source": [
    "## Helper Functions\n",
    "def get_shift_details(shift_index):\n",
    "    \"\"\"\n",
    "    Calculates day (0-6) and shift type (0=M, 1=A, 2=N) from shift index (0-20).\n",
    "\n",
    "    Args:\n",
    "        shift_index (int): The shift index (0-20)\n",
    "\n",
    "    Returns:\n",
    "        day (int): The day of the week (0-6)\n",
    "        shift_type (int): The shift type (0=M, 1=A, 2=N)\n",
    "    \"\"\"\n",
    "    if not (0 <= shift_index < SHIFTS_PER_WEEK):\n",
    "        raise ValueError(f\"shift_index {shift_index} out of range [0, {SHIFTS_PER_WEEK-1}]\")\n",
    "    day = shift_index // SHIFTS_PER_DAY\n",
    "    shift_type = shift_index % SHIFTS_PER_DAY\n",
    "    return day, shift_type\n",
    "\n",
    "def print_schedule(schedule, fitness):\n",
    "    \"\"\"\n",
    "    Prints the schedule in a readable format.\n",
    "\n",
    "    Args:\n",
    "        schedule (list): The schedule to print\n",
    "        fitness (float): The fitness score of the schedule\n",
    "    \"\"\"\n",
    "    print(f\"\\nSchedule (Fitness: {fitness:.2f}):\")\n",
    "    days = [\"Sun\", \"Mon\", \"Tue\", \"Wed\", \"Thu\", \"Fri\", \"Sat\"]\n",
    "    shifts = [\"M\", \"A\", \"N\"]\n",
    "    header = \"      \" + \" | \".join([days[d] for d in range(DAYS_PER_WEEK)])\n",
    "    print(header)\n",
    "    subheader = \"      \" + \" \".join([f\"{s}\" for _ in days for s in shifts])\n",
    "    print(subheader)\n",
    "    print(\"      \" + \"-\" * (len(subheader)-1))\n",
    "    for person_idx, person_schedule in enumerate(schedule):\n",
    "        schedule_str = \"\"\n",
    "        for i in range(SHIFTS_PER_WEEK):\n",
    "             schedule_str += str(person_schedule[i])\n",
    "             if (i + 1) % SHIFTS_PER_DAY == 0 and i < SHIFTS_PER_WEEK - 1:\n",
    "                 schedule_str += \" \" # Add space between days\n",
    "        print(f\"ATC {person_idx+1}: {schedule_str}\")\n",
    "    print(\"-\" * (len(subheader) + 5))\n",
    "\n",
    "def plot_fitness(fitness_history):\n",
    "    \"\"\"\n",
    "    Plots the best and average fitness score per generation.\n",
    "\n",
    "    Args:\n",
    "        fitness_history (list): A list of fitness scores for each generation\n",
    "\n",
    "    Returns:\n",
    "        None\n",
    "    \"\"\"\n",
    "    plt.figure(figsize=(12, 6))\n",
    "    generations = range(1, len(fitness_history) + 1)\n",
    "    plt.plot(generations, fitness_history, marker='o', linestyle='-', label='Best Fitness')\n",
    "    plt.title('GA Fitness Progression for ATC Scheduling')\n",
    "    plt.xlabel('Generation')\n",
    "    plt.ylabel('Fitness Score (Higher is Better)')\n",
    "    # Set y-limit to start slightly below the minimum fitness achieved or a reasonable lower bound\n",
    "    min_fitness = min(fitness_history)\n",
    "    plt.ylim(bottom=min(min_fitness - 5, -50)) # Adjust y-axis floor\n",
    "    plt.legend()\n",
    "    plt.grid(True)\n",
    "    plt.show()"
   ]
  },
  {
   "cell_type": "markdown",
   "metadata": {},
   "source": [
    "## Initialization\n",
    "\n",
    "Helper code to create the initial population. Make sure you understand how we have chosen to represent the individual and population!"
   ]
  },
  {
   "cell_type": "code",
   "execution_count": 5,
   "metadata": {},
   "outputs": [],
   "source": [
    "# Init GA\n",
    "def generate_initial_representation(num_people, shifts_per_week):\n",
    "  \"\"\"\n",
    "  Creates a single random schedule representation (chromosome).\n",
    "  Each person gets a list of 0s and 1s for the week's shifts.\n",
    "\n",
    "  Args:\n",
    "    num_people (int): The number of people in the schedule.\n",
    "    shifts_per_week (int): The number of shifts per week.\n",
    "\n",
    "  Returns:\n",
    "    schedule (list): A list of lists, where each inner list represents a person's schedule for the week.\n",
    "  \"\"\"\n",
    "  schedule = []\n",
    "  for _ in range(num_people):\n",
    "    person_schedule = [random.choice([0, 1]) for _ in range(shifts_per_week)]\n",
    "    schedule.append(person_schedule)\n",
    "  return schedule\n",
    "\n",
    "def generate_population(population_size, num_people, shifts_per_week):\n",
    "  \"\"\" Creates the initial population of random schedules. \"\"\"\n",
    "  return [generate_initial_representation(num_people, shifts_per_week)\n",
    "          for _ in range(population_size)]"
   ]
  },
  {
   "cell_type": "markdown",
   "id": "f54b2e45",
   "metadata": {},
   "source": [
    "## Fitness Function\n",
    "\n",
    "Evaluate how close a candidate is to the target solution. Note how hard versus soft constraints are handled."
   ]
  },
  {
   "cell_type": "code",
   "execution_count": 6,
   "metadata": {},
   "outputs": [],
   "source": [
    "def evaluate_fitness(schedule, num_people, shifts_per_week, shifts_per_day):\n",
    "    \"\"\" \n",
    "    Calculates the fitness of a single schedule based on constraints. \n",
    "\n",
    "    Args:\n",
    "        schedule (list): The schedule to evaluate\n",
    "        num_people (int): The number of people in the schedule\n",
    "        shifts_per_week (int): The number of shifts per week\n",
    "        shifts_per_day (int): The number of shifts per day\n",
    "\n",
    "    Returns:\n",
    "        fitness (float): The fitness score of the schedule\n",
    "    \"\"\"\n",
    "    fitness = 0 # Start with perfect fitness, subtract penalties\n",
    "\n",
    "    # Hard Constraint Checks\n",
    "\n",
    "    # 1. Minimum controllers per shift\n",
    "    min_controllers = {0: 1, 1: 2, 2: 1} # M:1, A:2, N:1\n",
    "    shift_violations = 0\n",
    "    for shift_idx in range(shifts_per_week):\n",
    "        _, shift_type = get_shift_details(shift_idx)\n",
    "\n",
    "        # Calculate number of controllers on this shift\n",
    "        controllers_on_shift = sum(schedule[p][shift_idx] for p in range(num_people))\n",
    "        required = min_controllers[shift_type]\n",
    "\n",
    "        # Penalize for each missing controller\n",
    "        if controllers_on_shift < required:\n",
    "            fitness += HARD_PENALTY * (required - controllers_on_shift)\n",
    "            shift_violations += (required - controllers_on_shift)\n",
    "\n",
    "    # 2. Rest periods\n",
    "    rest_violations = 0\n",
    "    for p in range(num_people):\n",
    "        for shift_idx in range(shifts_per_week):\n",
    "            if schedule[p][shift_idx] == 1: # If person p works this shift\n",
    "                _, shift_type = get_shift_details(shift_idx)\n",
    "\n",
    "                # a) Rest after Morning (0) or Afternoon (1)\n",
    "                if shift_type in [0, 1]:\n",
    "                    next_shift_idx = shift_idx + 1\n",
    "                    # Check boundary: ensure next shift is within the week\n",
    "                    if next_shift_idx < shifts_per_week and schedule[p][next_shift_idx] == 1:\n",
    "                         fitness += HARD_PENALTY # Violation: Working the very next shift\n",
    "                         rest_violations += 1\n",
    "\n",
    "                # b) Rest after Night (2)\n",
    "                elif shift_type == 2:\n",
    "                    # Check the next 3 shifts (full day)\n",
    "                    violation_found_for_night_shift = False\n",
    "                    for i in range(1, shifts_per_day + 1):\n",
    "                        next_shift_idx = shift_idx + i\n",
    "                        # Check boundary: ensure check stays within the week\n",
    "                        if next_shift_idx < shifts_per_week and schedule[p][next_shift_idx] == 1:\n",
    "                            if not violation_found_for_night_shift: # Only penalize once per night shift violation\n",
    "                                fitness += HARD_PENALTY\n",
    "                                rest_violations += 1\n",
    "                                violation_found_for_night_shift = True\n",
    "                            # No need to check further shifts for *this* night shift once violation is found\n",
    "\n",
    "    # Soft Constraint Checks\n",
    "\n",
    "    # 1. Excess controllers in tower\n",
    "    excess_violations = 0\n",
    "    for shift_idx in range(shifts_per_week):\n",
    "        _, shift_type = get_shift_details(shift_idx)\n",
    "        controllers_on_shift = sum(schedule[p][shift_idx] for p in range(num_people))\n",
    "        required = min_controllers[shift_type]\n",
    "        if controllers_on_shift > required:\n",
    "            excess = controllers_on_shift - required\n",
    "            fitness += SOFT_PENALTY * excess # Penalize for each extra controller\n",
    "            excess_violations += excess\n",
    "\n",
    "    # A fitness of 0 means no constraints were violated. Higher (less negative) is better.\n",
    "    # You could also return the counts of violations for analysis if needed:\n",
    "    # return fitness, shift_violations, rest_violations, excess_violations\n",
    "    return fitness"
   ]
  },
  {
   "cell_type": "markdown",
   "metadata": {},
   "source": [
    "## Q1.1 Parent Selection (4 points)\n",
    "\n",
    "In this step, pick the parents chosen for crossover. Recall there are lots of different ways this can fit together with the crossover step. It's up to you on which method you pick."
   ]
  },
  {
   "cell_type": "code",
   "execution_count": 7,
   "metadata": {},
   "outputs": [],
   "source": [
    "def parent_selection(population, fitness_scores):\n",
    "    \"\"\"\n",
    "    docstring here\n",
    "    \n",
    "    make sure the parameters make sense for your chosen method!\n",
    "    \"\"\"\n",
    "    pass"
   ]
  },
  {
   "cell_type": "markdown",
   "id": "30b0cda0",
   "metadata": {},
   "source": [
    "## Q1.2 Crossover (4 points)\n",
    "\n",
    "In this step, you combine two (or more) parent chromosomes to produce an offspring (or more). Recall that you can use the CROSSOVER_RATE parameter."
   ]
  },
  {
   "cell_type": "code",
   "execution_count": 8,
   "metadata": {},
   "outputs": [],
   "source": [
    "def crossover(parent_1, parent_2, num_people, shifts_per_week, crossover_rate):\n",
    "    \"\"\"\n",
    "    docstring here\n",
    "    \n",
    "    make sure the parameters make sense for your chosen method!\n",
    "    \"\"\"\n",
    "    pass"
   ]
  },
  {
   "cell_type": "markdown",
   "id": "61bf9b26",
   "metadata": {},
   "source": [
    "## Q1.3 Mutation (4 points)\n",
    "\n",
    "Add random mutations to chromosomes to maintain genetic diversity. You'll implement a function that randomly changes characters in the chromosome string. Recall that you can use the MUTATION_RATE parameter."
   ]
  },
  {
   "cell_type": "code",
   "execution_count": 9,
   "metadata": {},
   "outputs": [],
   "source": [
    "def mutate(schedule, mutation_rate, num_people, shifts_per_week):\n",
    "    \"\"\"\n",
    "    docstring here\n",
    "\n",
    "    make sure the parameters make sense for your chosen method!\n",
    "    \"\"\"\n",
    "    pass"
   ]
  },
  {
   "cell_type": "markdown",
   "metadata": {},
   "source": [
    "## Q1.4 Selection (4 points)\n",
    "\n",
    "You will implement a method for selecting parent chromosomes based on their fitness scores. The better the fitness, the higher the chance of selection."
   ]
  },
  {
   "cell_type": "code",
   "execution_count": 10,
   "metadata": {},
   "outputs": [],
   "source": [
    "def select_survivors(population, offspring_population, population_size, num_people, shifts_per_week, shifts_per_day, days_per_week):\n",
    "    \"\"\"\n",
    "    docstring here\n",
    "\n",
    "    make sure the parameters make sense for your chosen method!\n",
    "    \"\"\"\n",
    "    pass"
   ]
  },
  {
   "cell_type": "markdown",
   "id": "b564ddcb",
   "metadata": {},
   "source": [
    "## Q1.5 Putting It All Together (4 points)\n",
    "\n",
    "Finally, integrate all components into a loop to simulate multiple generations of evolution."
   ]
  },
  {
   "cell_type": "code",
   "execution_count": 11,
   "metadata": {},
   "outputs": [],
   "source": [
    "def genetic_algorithm(population_size, num_people, shifts_per_week, shifts_per_day, days_per_week,\n",
    "                      generations, mutation_rate, crossover_rate):\n",
    "    \"\"\"\n",
    "    docstring here\n",
    "\n",
    "    make sure the parameters make sense for your chosen method!\n",
    "    \"\"\"\n",
    "    pass"
   ]
  },
  {
   "cell_type": "markdown",
   "metadata": {},
   "source": [
    "# Main\n",
    "\n",
    "Run the genetic algorithm and plot the fitness scores."
   ]
  },
  {
   "cell_type": "code",
   "execution_count": 12,
   "metadata": {},
   "outputs": [
    {
     "ename": "TypeError",
     "evalue": "genetic_algorithm() got an unexpected keyword argument 'population_size'",
     "output_type": "error",
     "traceback": [
      "\u001b[31m---------------------------------------------------------------------------\u001b[39m",
      "\u001b[31mTypeError\u001b[39m                                 Traceback (most recent call last)",
      "\u001b[36mCell\u001b[39m\u001b[36m \u001b[39m\u001b[32mIn[12]\u001b[39m\u001b[32m, line 1\u001b[39m\n\u001b[32m----> \u001b[39m\u001b[32m1\u001b[39m best_schedule, best_fitness, history, avg_history = \u001b[43mgenetic_algorithm\u001b[49m\u001b[43m(\u001b[49m\n\u001b[32m      2\u001b[39m \u001b[43m        \u001b[49m\u001b[43mpopulation_size\u001b[49m\u001b[43m=\u001b[49m\u001b[43mPOPULATION_SIZE\u001b[49m\u001b[43m,\u001b[49m\n\u001b[32m      3\u001b[39m \u001b[43m        \u001b[49m\u001b[43mnum_people\u001b[49m\u001b[43m=\u001b[49m\u001b[43mNUM_PEOPLE\u001b[49m\u001b[43m,\u001b[49m\n\u001b[32m      4\u001b[39m \u001b[43m        \u001b[49m\u001b[43mshifts_per_week\u001b[49m\u001b[43m=\u001b[49m\u001b[43mSHIFTS_PER_WEEK\u001b[49m\u001b[43m,\u001b[49m\n\u001b[32m      5\u001b[39m \u001b[43m        \u001b[49m\u001b[43mshifts_per_day\u001b[49m\u001b[43m=\u001b[49m\u001b[43mSHIFTS_PER_DAY\u001b[49m\u001b[43m,\u001b[49m\n\u001b[32m      6\u001b[39m \u001b[43m        \u001b[49m\u001b[43mdays_per_week\u001b[49m\u001b[43m=\u001b[49m\u001b[43mDAYS_PER_WEEK\u001b[49m\u001b[43m,\u001b[49m\n\u001b[32m      7\u001b[39m \u001b[43m        \u001b[49m\u001b[43mgenerations\u001b[49m\u001b[43m=\u001b[49m\u001b[43mGENERATIONS\u001b[49m\u001b[43m,\u001b[49m\n\u001b[32m      8\u001b[39m \u001b[43m        \u001b[49m\u001b[43mmutation_rate\u001b[49m\u001b[43m=\u001b[49m\u001b[43mMUTATION_RATE\u001b[49m\u001b[43m,\u001b[49m\n\u001b[32m      9\u001b[39m \u001b[43m        \u001b[49m\u001b[43mcrossover_rate\u001b[49m\u001b[43m=\u001b[49m\u001b[43mCROSSOVER_RATE\u001b[49m\u001b[43m,\u001b[49m\n\u001b[32m     10\u001b[39m \u001b[43m        \u001b[49m\u001b[43mtournament_size\u001b[49m\u001b[43m=\u001b[49m\u001b[43mTOURNAMENT_SIZE\u001b[49m\n\u001b[32m     11\u001b[39m \u001b[43m    \u001b[49m\u001b[43m)\u001b[49m\n\u001b[32m     13\u001b[39m \u001b[38;5;28mprint\u001b[39m(\u001b[33m\"\u001b[39m\u001b[38;5;130;01m\\n\u001b[39;00m\u001b[33m\"\u001b[39m + \u001b[33m\"\u001b[39m\u001b[33m=\u001b[39m\u001b[33m\"\u001b[39m*\u001b[32m30\u001b[39m)\n\u001b[32m     14\u001b[39m \u001b[38;5;28mprint\u001b[39m(\u001b[33m\"\u001b[39m\u001b[33m      Best Schedule Found\u001b[39m\u001b[33m\"\u001b[39m)\n",
      "\u001b[31mTypeError\u001b[39m: genetic_algorithm() got an unexpected keyword argument 'population_size'"
     ]
    }
   ],
   "source": [
    "best_schedule, best_fitness, history, avg_history = genetic_algorithm(\n",
    "        population_size=POPULATION_SIZE,\n",
    "        num_people=NUM_PEOPLE,\n",
    "        shifts_per_week=SHIFTS_PER_WEEK,\n",
    "        shifts_per_day=SHIFTS_PER_DAY,\n",
    "        days_per_week=DAYS_PER_WEEK,\n",
    "        generations=GENERATIONS,\n",
    "        mutation_rate=MUTATION_RATE,\n",
    "        crossover_rate=CROSSOVER_RATE,\n",
    "    ) # CHECK THE PARAMETERS!!!\n",
    "\n",
    "print(\"\\n\" + \"=\"*30)\n",
    "print(\"      Best Schedule Found\")\n",
    "print(\"=\"*30)\n",
    "if best_schedule:\n",
    "    # Evaluate the final best schedule again to be certain of its fitness score\n",
    "    final_check_fitness = evaluate_fitness(best_schedule, NUM_PEOPLE, SHIFTS_PER_WEEK, SHIFTS_PER_DAY, DAYS_PER_WEEK)\n",
    "    print_schedule(best_schedule, final_check_fitness)\n",
    "    if abs(final_check_fitness - best_fitness) > 0.01:\n",
    "            print(f\"[Note] Final re-evaluated fitness {final_check_fitness:.2f} differs slightly from tracked fitness {best_fitness:.2f}\")\n",
    "else:\n",
    "    print(\"\\nNo suitable schedule found (best_schedule is None).\")\n",
    "    # Explain and show the plot\n",
    "    print(\"\\n\" + \"=\"*30)\n",
    "    print(\"      Fitness Plot Explanation\")\n",
    "    print(\"=\"*30)\n",
    "    print(\"The plot shows the fitness score evolution over generations:\")\n",
    "    print(\" - 'Best Fitness': The fitness score of the absolute best schedule found in each generation.\")\n",
    "    print(\" - 'Average Fitness': The average fitness score of all schedules in the population for each generation.\")\n",
    "    print(\"Ideally, both lines should trend upwards (towards 0 or positive values).\")\n",
    "    print(\"The gap between average and best fitness indicates population diversity.\")\n",
    "plot_fitness(history, avg_history)"
   ]
  },
  {
   "cell_type": "markdown",
   "metadata": {},
   "source": [
    "# Q2 Exploring the Solution Space (5 points)\n",
    "\n",
    "Now that you've written a base genetic algorithm, let's see what additional information you can learn about this problem. Every air traffic controller gets paid the same amount regardless of how many shifts they work. Management wants to find the minimum number of air traffic controllers they need without creating ANY constraint violations.\n",
    "\n",
    "a. Using your genetic algorithm solver, find the minimum number of air traffic controllers needed.\n",
    "\n",
    "b. Describe how you came up with your answer to part A and how confident you are in that answer."
   ]
  },
  {
   "cell_type": "markdown",
   "metadata": {},
   "source": [
    "# Solution 2\n",
    "\n",
    "todo..."
   ]
  },
  {
   "cell_type": "markdown",
   "metadata": {},
   "source": [
    "# Q3 Tweaking the Parameters (10 points)\n",
    "\n",
    "Now that you've written a base genetic algorithm, let's see if you can improve the performance by tweaking the parameters. Pick one of the GA Parameters and create a plot showing the results at different values."
   ]
  },
  {
   "cell_type": "code",
   "execution_count": null,
   "metadata": {},
   "outputs": [],
   "source": [
    "best_schedule, best_fitness, history, avg_history = genetic_algorithm(\n",
    "        population_size=POPULATION_SIZE, # parameter you could pick to sweep \n",
    "        num_people=NUM_PEOPLE,\n",
    "        shifts_per_week=SHIFTS_PER_WEEK,\n",
    "        shifts_per_day=SHIFTS_PER_DAY,\n",
    "        days_per_week=DAYS_PER_WEEK,\n",
    "        generations=GENERATIONS,\n",
    "        mutation_rate=MUTATION_RATE, # parameter you could pick to sweep \n",
    "        crossover_rate=CROSSOVER_RATE, # parameter you could pick to sweep \n",
    "    )  # CHECK THE PARAMETERS!!!\n",
    "\n",
    "\n",
    "# CHANGE THIS CODE BELOW SO THAT IT PLOTS THE PARAMETER THAT GETS SWEEPED\n",
    "\n",
    "print(\"\\n\" + \"=\"*30)\n",
    "print(\"      Best Schedule Found\")\n",
    "print(\"=\"*30)\n",
    "if best_schedule:\n",
    "    # Evaluate the final best schedule again to be certain of its fitness score\n",
    "    final_check_fitness = evaluate_fitness(best_schedule, NUM_PEOPLE, SHIFTS_PER_WEEK, SHIFTS_PER_DAY, DAYS_PER_WEEK)\n",
    "    print_schedule(best_schedule, final_check_fitness)\n",
    "    if abs(final_check_fitness - best_fitness) > 0.01:\n",
    "            print(f\"[Note] Final re-evaluated fitness {final_check_fitness:.2f} differs slightly from tracked fitness {best_fitness:.2f}\")\n",
    "else:\n",
    "    print(\"\\nNo suitable schedule found (best_schedule is None).\")\n",
    "    # Explain and show the plot\n",
    "    print(\"\\n\" + \"=\"*30)\n",
    "    print(\"      Fitness Plot Explanation\")\n",
    "    print(\"=\"*30)\n",
    "    print(\"The plot shows the fitness score evolution over generations:\")\n",
    "    print(\" - 'Best Fitness': The fitness score of the absolute best schedule found in each generation.\")\n",
    "    print(\" - 'Average Fitness': The average fitness score of all schedules in the population for each generation.\")\n",
    "    print(\"Ideally, both lines should trend upwards (towards 0 or positive values).\")\n",
    "    print(\"The gap between average and best fitness indicates population diversity.\")\n",
    "plot_fitness(history, avg_history)"
   ]
  },
  {
   "cell_type": "markdown",
   "metadata": {},
   "source": [
    "### Interpret\n",
    "\n",
    "- What parameter did you pick?\n",
    "\n",
    "- What was optimal value for that parameter and why?\n",
    "\n",
    "- Is there another parameter do you think that tweaking it's value will improve the results and why?"
   ]
  },
  {
   "cell_type": "markdown",
   "metadata": {},
   "source": [
    "# Solution 3\n",
    "todo..."
   ]
  },
  {
   "cell_type": "markdown",
   "metadata": {},
   "source": [
    "## Q4 Changing Core Operations (15 points)\n",
    "\n",
    "Finally, we are going to explore other methods for selection, crossover, and mutation. Choose your parent selection, mutation, crossover, or selection function and rewrite it to use a different method. Then, rerun the genetic algorithm and compare the results. Display the comparisons in a graph and interpret the results. You will do this twice; you can pick two different functions or pick the same function and come up with two different versions of it.\n",
    "\n",
    "Completely optional, but if you are look for some inspiration this paper outlines the success of different kind of selection schemes: [A Comparative Analysis of Selection Schemes\n",
    "Used in Genetic Algorithms](https://www.cse.unr.edu/~sushil/class/gas/papers/Select.pdf)"
   ]
  },
  {
   "cell_type": "markdown",
   "metadata": {},
   "source": [
    "- Step/Method you are replacing:\n",
    "\n",
    "- Step/Method you are replacing it with:\n",
    "\n",
    "- Interpret the results of this replacement:\n"
   ]
  },
  {
   "cell_type": "code",
   "execution_count": null,
   "metadata": {},
   "outputs": [],
   "source": [
    "def verison_2():    #replace with the name of the function\n",
    "    pass\n",
    "\n",
    "\n",
    "# Copy code above to run and plot this function"
   ]
  },
  {
   "cell_type": "markdown",
   "metadata": {},
   "source": [
    "- Step/Method you are replacing:\n",
    "\n",
    "- Step/Method you are replacing it with:\n",
    "\n",
    "- Interpret the results of this replacement:\n"
   ]
  },
  {
   "cell_type": "code",
   "execution_count": null,
   "metadata": {},
   "outputs": [],
   "source": [
    "def verison_3():    #replace with the name of the function\n",
    "    pass\n",
    "\n",
    "# Copy code above to run and plot this function"
   ]
  }
 ],
 "metadata": {
  "kernelspec": {
   "display_name": "3.12.7",
   "language": "python",
   "name": "python3"
  },
  "language_info": {
   "codemirror_mode": {
    "name": "ipython",
    "version": 3
   },
   "file_extension": ".py",
   "mimetype": "text/x-python",
   "name": "python",
   "nbconvert_exporter": "python",
   "pygments_lexer": "ipython3",
   "version": "3.12.7"
  }
 },
 "nbformat": 4,
 "nbformat_minor": 2
}
